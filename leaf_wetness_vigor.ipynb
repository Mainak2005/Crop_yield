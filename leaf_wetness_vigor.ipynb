{
 "cells": [
  {
   "cell_type": "code",
   "execution_count": 1,
   "id": "268d2046-1abb-4f73-a1bc-9931976bc9dc",
   "metadata": {},
   "outputs": [
    {
     "name": "stdout",
     "output_type": "stream",
     "text": [
      "NDVI shape: (26365727, 1)\n",
      "NDMI shape: (26365727, 1)\n",
      "\n",
      "Proxy labels created:\n",
      " - plant_vigor_labels.npy (0=Low, 1=High)\n",
      " - leaf_wetness_binary_labels.npy (0=Low Wetness, 1=High Wetness)\n",
      "              precision    recall  f1-score   support\n",
      "\n",
      " Low Wetness      1.000     0.999     1.000      3634\n",
      "High Wetness      1.000     1.000     1.000      6366\n",
      "\n",
      "    accuracy                          1.000     10000\n",
      "   macro avg      1.000     1.000     1.000     10000\n",
      "weighted avg      1.000     1.000     1.000     10000\n",
      "\n",
      "Confusion Matrix:\n",
      " [[3632    2]\n",
      " [   1 6365]]\n",
      "\n",
      "Predictions saved as leaf_wetness_pred.npy\n"
     ]
    }
   ],
   "source": [
    "import numpy as np\n",
    "from sklearn.ensemble import RandomForestClassifier\n",
    "from sklearn.model_selection import train_test_split\n",
    "from sklearn.metrics import classification_report, confusion_matrix\n",
    "\n",
    "\n",
    "ndvi = np.load(\"NDVI_singur_monsoon.npy\")\n",
    "ndmi = np.load(\"NDMI_singur_monsoon.npy\")\n",
    "\n",
    "print(\"NDVI shape:\", ndvi.shape)\n",
    "print(\"NDMI shape:\", ndmi.shape)\n",
    "\n",
    "\n",
    "def flatten_array(arr):\n",
    "    if arr.ndim == 2:   # single image\n",
    "        return arr.ravel()\n",
    "    elif arr.ndim == 3: # time-series cube\n",
    "        return arr.reshape(-1)\n",
    "    else:               # already 1D\n",
    "        return arr\n",
    "\n",
    "ndvi_flat = flatten_array(ndvi)\n",
    "ndmi_flat = flatten_array(ndmi)\n",
    "\n",
    "\n",
    "\n",
    "plant_vigor = np.zeros_like(ndvi_flat, dtype=int)\n",
    "plant_vigor[ndvi_flat >= 0.5] = 1   # High vigor if NDVI >= 0.5\n",
    "\n",
    "\n",
    "leaf_wetness_binary = plant_vigor.copy()\n",
    "\n",
    "np.save(\"plant_vigor_labels.npy\", plant_vigor)\n",
    "np.save(\"leaf_wetness_binary_labels.npy\", leaf_wetness_binary)\n",
    "\n",
    "print(\"\\nProxy labels created:\")\n",
    "print(\" - plant_vigor_labels.npy (0=Low, 1=High)\")\n",
    "print(\" - leaf_wetness_binary_labels.npy (0=Low Wetness, 1=High Wetness)\")\n",
    "\n",
    "\n",
    "n_samples = 50000  # adjust if you want more/less\n",
    "if len(ndvi_flat) > n_samples:\n",
    "    idx = np.random.choice(len(ndvi_flat), size=n_samples, replace=False)\n",
    "    X = np.column_stack([ndvi_flat[idx], ndmi_flat[idx]])\n",
    "    y = leaf_wetness_binary[idx]\n",
    "else:\n",
    "    X = np.column_stack([ndvi_flat, ndmi_flat])\n",
    "    y = leaf_wetness_binary\n",
    "\n",
    "\n",
    "X_train, X_test, y_train, y_test = train_test_split(\n",
    "    X, y, test_size=0.2, random_state=42, stratify=y\n",
    ")\n",
    "\n",
    "clf = RandomForestClassifier(n_estimators=50, max_depth=8, random_state=42)\n",
    "clf.fit(X_train, y_train)\n",
    "y_pred = clf.predict(X_test)\n",
    "\n",
    "\n",
    "print(classification_report(y_test, y_pred, target_names=[\"Low Wetness\", \"High Wetness\"], digits=3))\n",
    "print(\"Confusion Matrix:\\n\", confusion_matrix(y_test, y_pred))\n",
    "\n",
    "\n",
    "full_predictions = clf.predict(np.column_stack([ndvi_flat, ndmi_flat]))\n",
    "np.save(\"leaf_wetness_pred.npy\", full_predictions)\n",
    "\n",
    "print(\"\\nPredictions saved as leaf_wetness_pred.npy\")\n"
   ]
  },
  {
   "cell_type": "code",
   "execution_count": 5,
   "id": "178eaefb-aaf1-475b-9ea3-125bbedfb080",
   "metadata": {},
   "outputs": [
    {
     "name": "stdin",
     "output_type": "stream",
     "text": [
      "\n",
      " NDVI :  0.25\n",
      " NDMI :  -0.10\n"
     ]
    },
    {
     "name": "stdout",
     "output_type": "stream",
     "text": [
      "\n",
      "Result: Low Wetness\n",
      "Alert: ⚠️ Alert: Leaf wetness is critically low!\n"
     ]
    },
    {
     "name": "stdin",
     "output_type": "stream",
     "text": [
      "\n",
      " NDVI :  0.75\n",
      " NDMI :  0.35\n"
     ]
    },
    {
     "name": "stdout",
     "output_type": "stream",
     "text": [
      "\n",
      "Result: High Wetness\n",
      "Alert: ✅ Good wetness level, conditions are healthy.\n"
     ]
    },
    {
     "name": "stdin",
     "output_type": "stream",
     "text": [
      "\n",
      " NDVI :  quit\n"
     ]
    },
    {
     "name": "stdout",
     "output_type": "stream",
     "text": [
      "Exiting...\n"
     ]
    }
   ],
   "source": [
    " alerts = {\n",
    "    \"Low Wetness\":  \"⚠️ Alert: Leaf wetness is critically low!\",\n",
    "    \"High Wetness\": \"✅ Good wetness level, conditions are healthy.\"\n",
    "}\n",
    "\n",
    "while True:\n",
    "    try:\n",
    "        ndvi_val = input(\"\\n NDVI : \")\n",
    "        if ndvi_val.lower() == 'quit':   # user can type quit anytime\n",
    "            print(\"Exiting...\")\n",
    "            break\n",
    "\n",
    "        ndvi_val = float(ndvi_val)\n",
    "        ndmi_val = float(input(\" NDMI : \"))\n",
    "\n",
    "        user_input = np.array([[ndvi_val, ndmi_val]])\n",
    "\n",
    "        pred = clf.predict(user_input)[0]\n",
    "\n",
    "        labels = {0: \"Low Wetness\", 1: \"High Wetness\"}\n",
    "        predicted_label = labels[pred]\n",
    "\n",
    "        # Show result (without probabilities)\n",
    "        print(f\"\\nResult: {predicted_label}\")\n",
    "        print(\"Alert:\", alerts[predicted_label])\n",
    "\n",
    "    except Exception as e:\n",
    "        print(\"Invalid input, try again!\", e)\n",
    "\n"
   ]
  },
  {
   "cell_type": "code",
   "execution_count": null,
   "id": "4ac8e64b-7e5e-491f-b3c1-7dda09f77367",
   "metadata": {},
   "outputs": [],
   "source": []
  },
  {
   "cell_type": "code",
   "execution_count": null,
   "id": "7835e88a-9053-4df1-b8b4-830bc1e0cd27",
   "metadata": {},
   "outputs": [],
   "source": []
  }
 ],
 "metadata": {
  "kernelspec": {
   "display_name": "Python 3 (ipykernel)",
   "language": "python",
   "name": "python3"
  },
  "language_info": {
   "codemirror_mode": {
    "name": "ipython",
    "version": 3
   },
   "file_extension": ".py",
   "mimetype": "text/x-python",
   "name": "python",
   "nbconvert_exporter": "python",
   "pygments_lexer": "ipython3",
   "version": "3.12.7"
  }
 },
 "nbformat": 4,
 "nbformat_minor": 5
}
